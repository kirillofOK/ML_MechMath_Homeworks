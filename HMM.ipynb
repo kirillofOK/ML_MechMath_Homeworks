{
  "nbformat": 4,
  "nbformat_minor": 0,
  "metadata": {
    "colab": {
      "name": "HMM.ipynb",
      "provenance": [],
      "collapsed_sections": []
    },
    "kernelspec": {
      "name": "python3",
      "display_name": "Python 3"
    },
    "language_info": {
      "name": "python"
    }
  },
  "cells": [
    {
      "cell_type": "code",
      "execution_count": 1,
      "metadata": {
        "id": "8F1TpECnoRX2"
      },
      "outputs": [],
      "source": [
        "import numpy as np"
      ]
    },
    {
      "cell_type": "code",
      "source": [
        "def FORWARD(obs, T, N):\n",
        "  forward = np.ones((N, T))\n",
        "  forward[:, 0] = pi[:] * B[(obs[0])-1,:]\n",
        "  for t in range(1, T):\n",
        "    for s in range(N):\n",
        "      forward[s,t] = np.dot(forward[:,t-1], (A[:,s] * B[(obs[t])-1,s]))\n",
        "  forwardprob = np.sum(forward[:,T-1])\n",
        "  return forwardprob"
      ],
      "metadata": {
        "id": "I8CIDMDbrfQ4"
      },
      "execution_count": 39,
      "outputs": []
    },
    {
      "cell_type": "code",
      "source": [
        "pi = np.array([.2, .8])\n",
        "obs = np.array([1, 3, 3, 2, 3, 3, 3, 2, 1, 2, 1, 1, 3, 1, 3, 3, 3])\n",
        "T = len(obs)\n",
        "A = np.array([[.5, .5],[.4, .6]])\n",
        "N = len(A[0])\n",
        "B = np.array([[.5, .4, .1],[.2, .4, .4]]).T\n",
        "print(A[:,:],'\\n\\n', B,'\\n\\n')\n",
        "\n",
        "result = FORWARD(obs, T, N)\n",
        "print('likelihood = ',result)\n",
        "\n",
        "obs1 = np.array([1, 3, 3, 2, 3, 3, 3, 2, 1, 2, 1, 1, 3, 1, 3, 3, 3, 1, 2, 3, 1, 1, 1, 1, 1, 1, 3, 3, 3, 2, 2, 2, 2])\n",
        "T1 = len(obs1)\n",
        "\n",
        "result1 = FORWARD(obs1, T1, N)\n",
        "print('likelihood = ',result1)"
      ],
      "metadata": {
        "colab": {
          "base_uri": "https://localhost:8080/"
        },
        "id": "lzFbcHVE0-a-",
        "outputId": "a43fc860-8f8f-4d1b-8a92-61f3a71464cd"
      },
      "execution_count": 47,
      "outputs": [
        {
          "output_type": "stream",
          "name": "stdout",
          "text": [
            "[[0.5 0.5]\n",
            " [0.4 0.6]] \n",
            "\n",
            " [[0.5 0.2]\n",
            " [0.4 0.4]\n",
            " [0.1 0.4]] \n",
            "\n",
            "\n",
            "likelihood =  1.566169936393645e-09\n",
            "likelihood =  4.0311813331254367e-17\n"
          ]
        }
      ]
    },
    {
      "cell_type": "code",
      "source": [
        ""
      ],
      "metadata": {
        "id": "UYjmEubb7NFF"
      },
      "execution_count": null,
      "outputs": []
    }
  ]
}
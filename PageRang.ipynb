{
  "nbformat": 4,
  "nbformat_minor": 0,
  "metadata": {
    "colab": {
      "name": "PageRang.ipynb",
      "provenance": [],
      "collapsed_sections": []
    },
    "kernelspec": {
      "name": "python3",
      "display_name": "Python 3"
    },
    "language_info": {
      "name": "python"
    }
  },
  "cells": [
    {
      "cell_type": "code",
      "execution_count": 3,
      "metadata": {
        "id": "ijpqgV7uytVC"
      },
      "outputs": [],
      "source": [
        "import pandas as pd\n",
        "import numpy as np\n",
        "import xml.etree.ElementTree as et\n",
        "import numpy.linalg as ln"
      ]
    },
    {
      "cell_type": "code",
      "source": [
        "tree = et.parse('/content/padgett.xml')\n",
        "root = tree.getroot()"
      ],
      "metadata": {
        "id": "hyfp6Pw7z56v"
      },
      "execution_count": 4,
      "outputs": []
    },
    {
      "cell_type": "code",
      "source": [
        "data = []"
      ],
      "metadata": {
        "id": "XtFdZDlLz9eh"
      },
      "execution_count": 5,
      "outputs": []
    },
    {
      "cell_type": "code",
      "source": [
        "for x in root.findall('MetaNetwork'):\n",
        "  for child in x.find('networks')[0]:\n",
        "    data.append(child.attrib)"
      ],
      "metadata": {
        "id": "5Jafa5nV1Znk"
      },
      "execution_count": 6,
      "outputs": []
    },
    {
      "cell_type": "code",
      "source": [
        "len(data)"
      ],
      "metadata": {
        "colab": {
          "base_uri": "https://localhost:8080/"
        },
        "id": "XH0ZAkCj1fUR",
        "outputId": "c876b20a-4533-4024-83b2-102d543bc6a6"
      },
      "execution_count": 7,
      "outputs": [
        {
          "output_type": "execute_result",
          "data": {
            "text/plain": [
              "256"
            ]
          },
          "metadata": {},
          "execution_count": 7
        }
      ]
    },
    {
      "cell_type": "code",
      "source": [
        "df = pd.DataFrame(data)"
      ],
      "metadata": {
        "id": "Vyi9VsTD2UbO"
      },
      "execution_count": 8,
      "outputs": []
    },
    {
      "cell_type": "code",
      "source": [
        "df.head(20)"
      ],
      "metadata": {
        "colab": {
          "base_uri": "https://localhost:8080/",
          "height": 669
        },
        "id": "78o6-Fc92fwo",
        "outputId": "d9dd91cf-dc4d-4ac4-a928-76530b2afc65"
      },
      "execution_count": 9,
      "outputs": [
        {
          "output_type": "execute_result",
          "data": {
            "text/plain": [
              "       source     target    type   value\n",
              "0   ACCIAIUOL  ACCIAIUOL  double  0.0000\n",
              "1   ACCIAIUOL    ALBIZZI  double  0.0000\n",
              "2   ACCIAIUOL  BARBADORI  double  0.0000\n",
              "3   ACCIAIUOL   BISCHERI  double  0.0000\n",
              "4   ACCIAIUOL  CASTELLAN  double  0.0000\n",
              "5   ACCIAIUOL     GINORI  double  0.0000\n",
              "6   ACCIAIUOL   GUADAGNI  double  0.0000\n",
              "7   ACCIAIUOL  LAMBERTES  double  0.0000\n",
              "8   ACCIAIUOL     MEDICI  double  1.0000\n",
              "9   ACCIAIUOL      PAZZI  double  0.0000\n",
              "10  ACCIAIUOL    PERUZZI  double  0.0000\n",
              "11  ACCIAIUOL      PUCCI  double  0.0000\n",
              "12  ACCIAIUOL    RIDOLFI  double  0.0000\n",
              "13  ACCIAIUOL   SALVIATI  double  0.0000\n",
              "14  ACCIAIUOL    STROZZI  double  0.0000\n",
              "15  ACCIAIUOL  TORNABUON  double  0.0000\n",
              "16    ALBIZZI  ACCIAIUOL  double  0.0000\n",
              "17    ALBIZZI    ALBIZZI  double  0.0000\n",
              "18    ALBIZZI  BARBADORI  double  0.0000\n",
              "19    ALBIZZI   BISCHERI  double  0.0000"
            ],
            "text/html": [
              "\n",
              "  <div id=\"df-ada3e8dc-2e9b-4eaa-8abb-e96e1bfe731c\">\n",
              "    <div class=\"colab-df-container\">\n",
              "      <div>\n",
              "<style scoped>\n",
              "    .dataframe tbody tr th:only-of-type {\n",
              "        vertical-align: middle;\n",
              "    }\n",
              "\n",
              "    .dataframe tbody tr th {\n",
              "        vertical-align: top;\n",
              "    }\n",
              "\n",
              "    .dataframe thead th {\n",
              "        text-align: right;\n",
              "    }\n",
              "</style>\n",
              "<table border=\"1\" class=\"dataframe\">\n",
              "  <thead>\n",
              "    <tr style=\"text-align: right;\">\n",
              "      <th></th>\n",
              "      <th>source</th>\n",
              "      <th>target</th>\n",
              "      <th>type</th>\n",
              "      <th>value</th>\n",
              "    </tr>\n",
              "  </thead>\n",
              "  <tbody>\n",
              "    <tr>\n",
              "      <th>0</th>\n",
              "      <td>ACCIAIUOL</td>\n",
              "      <td>ACCIAIUOL</td>\n",
              "      <td>double</td>\n",
              "      <td>0.0000</td>\n",
              "    </tr>\n",
              "    <tr>\n",
              "      <th>1</th>\n",
              "      <td>ACCIAIUOL</td>\n",
              "      <td>ALBIZZI</td>\n",
              "      <td>double</td>\n",
              "      <td>0.0000</td>\n",
              "    </tr>\n",
              "    <tr>\n",
              "      <th>2</th>\n",
              "      <td>ACCIAIUOL</td>\n",
              "      <td>BARBADORI</td>\n",
              "      <td>double</td>\n",
              "      <td>0.0000</td>\n",
              "    </tr>\n",
              "    <tr>\n",
              "      <th>3</th>\n",
              "      <td>ACCIAIUOL</td>\n",
              "      <td>BISCHERI</td>\n",
              "      <td>double</td>\n",
              "      <td>0.0000</td>\n",
              "    </tr>\n",
              "    <tr>\n",
              "      <th>4</th>\n",
              "      <td>ACCIAIUOL</td>\n",
              "      <td>CASTELLAN</td>\n",
              "      <td>double</td>\n",
              "      <td>0.0000</td>\n",
              "    </tr>\n",
              "    <tr>\n",
              "      <th>5</th>\n",
              "      <td>ACCIAIUOL</td>\n",
              "      <td>GINORI</td>\n",
              "      <td>double</td>\n",
              "      <td>0.0000</td>\n",
              "    </tr>\n",
              "    <tr>\n",
              "      <th>6</th>\n",
              "      <td>ACCIAIUOL</td>\n",
              "      <td>GUADAGNI</td>\n",
              "      <td>double</td>\n",
              "      <td>0.0000</td>\n",
              "    </tr>\n",
              "    <tr>\n",
              "      <th>7</th>\n",
              "      <td>ACCIAIUOL</td>\n",
              "      <td>LAMBERTES</td>\n",
              "      <td>double</td>\n",
              "      <td>0.0000</td>\n",
              "    </tr>\n",
              "    <tr>\n",
              "      <th>8</th>\n",
              "      <td>ACCIAIUOL</td>\n",
              "      <td>MEDICI</td>\n",
              "      <td>double</td>\n",
              "      <td>1.0000</td>\n",
              "    </tr>\n",
              "    <tr>\n",
              "      <th>9</th>\n",
              "      <td>ACCIAIUOL</td>\n",
              "      <td>PAZZI</td>\n",
              "      <td>double</td>\n",
              "      <td>0.0000</td>\n",
              "    </tr>\n",
              "    <tr>\n",
              "      <th>10</th>\n",
              "      <td>ACCIAIUOL</td>\n",
              "      <td>PERUZZI</td>\n",
              "      <td>double</td>\n",
              "      <td>0.0000</td>\n",
              "    </tr>\n",
              "    <tr>\n",
              "      <th>11</th>\n",
              "      <td>ACCIAIUOL</td>\n",
              "      <td>PUCCI</td>\n",
              "      <td>double</td>\n",
              "      <td>0.0000</td>\n",
              "    </tr>\n",
              "    <tr>\n",
              "      <th>12</th>\n",
              "      <td>ACCIAIUOL</td>\n",
              "      <td>RIDOLFI</td>\n",
              "      <td>double</td>\n",
              "      <td>0.0000</td>\n",
              "    </tr>\n",
              "    <tr>\n",
              "      <th>13</th>\n",
              "      <td>ACCIAIUOL</td>\n",
              "      <td>SALVIATI</td>\n",
              "      <td>double</td>\n",
              "      <td>0.0000</td>\n",
              "    </tr>\n",
              "    <tr>\n",
              "      <th>14</th>\n",
              "      <td>ACCIAIUOL</td>\n",
              "      <td>STROZZI</td>\n",
              "      <td>double</td>\n",
              "      <td>0.0000</td>\n",
              "    </tr>\n",
              "    <tr>\n",
              "      <th>15</th>\n",
              "      <td>ACCIAIUOL</td>\n",
              "      <td>TORNABUON</td>\n",
              "      <td>double</td>\n",
              "      <td>0.0000</td>\n",
              "    </tr>\n",
              "    <tr>\n",
              "      <th>16</th>\n",
              "      <td>ALBIZZI</td>\n",
              "      <td>ACCIAIUOL</td>\n",
              "      <td>double</td>\n",
              "      <td>0.0000</td>\n",
              "    </tr>\n",
              "    <tr>\n",
              "      <th>17</th>\n",
              "      <td>ALBIZZI</td>\n",
              "      <td>ALBIZZI</td>\n",
              "      <td>double</td>\n",
              "      <td>0.0000</td>\n",
              "    </tr>\n",
              "    <tr>\n",
              "      <th>18</th>\n",
              "      <td>ALBIZZI</td>\n",
              "      <td>BARBADORI</td>\n",
              "      <td>double</td>\n",
              "      <td>0.0000</td>\n",
              "    </tr>\n",
              "    <tr>\n",
              "      <th>19</th>\n",
              "      <td>ALBIZZI</td>\n",
              "      <td>BISCHERI</td>\n",
              "      <td>double</td>\n",
              "      <td>0.0000</td>\n",
              "    </tr>\n",
              "  </tbody>\n",
              "</table>\n",
              "</div>\n",
              "      <button class=\"colab-df-convert\" onclick=\"convertToInteractive('df-ada3e8dc-2e9b-4eaa-8abb-e96e1bfe731c')\"\n",
              "              title=\"Convert this dataframe to an interactive table.\"\n",
              "              style=\"display:none;\">\n",
              "        \n",
              "  <svg xmlns=\"http://www.w3.org/2000/svg\" height=\"24px\"viewBox=\"0 0 24 24\"\n",
              "       width=\"24px\">\n",
              "    <path d=\"M0 0h24v24H0V0z\" fill=\"none\"/>\n",
              "    <path d=\"M18.56 5.44l.94 2.06.94-2.06 2.06-.94-2.06-.94-.94-2.06-.94 2.06-2.06.94zm-11 1L8.5 8.5l.94-2.06 2.06-.94-2.06-.94L8.5 2.5l-.94 2.06-2.06.94zm10 10l.94 2.06.94-2.06 2.06-.94-2.06-.94-.94-2.06-.94 2.06-2.06.94z\"/><path d=\"M17.41 7.96l-1.37-1.37c-.4-.4-.92-.59-1.43-.59-.52 0-1.04.2-1.43.59L10.3 9.45l-7.72 7.72c-.78.78-.78 2.05 0 2.83L4 21.41c.39.39.9.59 1.41.59.51 0 1.02-.2 1.41-.59l7.78-7.78 2.81-2.81c.8-.78.8-2.07 0-2.86zM5.41 20L4 18.59l7.72-7.72 1.47 1.35L5.41 20z\"/>\n",
              "  </svg>\n",
              "      </button>\n",
              "      \n",
              "  <style>\n",
              "    .colab-df-container {\n",
              "      display:flex;\n",
              "      flex-wrap:wrap;\n",
              "      gap: 12px;\n",
              "    }\n",
              "\n",
              "    .colab-df-convert {\n",
              "      background-color: #E8F0FE;\n",
              "      border: none;\n",
              "      border-radius: 50%;\n",
              "      cursor: pointer;\n",
              "      display: none;\n",
              "      fill: #1967D2;\n",
              "      height: 32px;\n",
              "      padding: 0 0 0 0;\n",
              "      width: 32px;\n",
              "    }\n",
              "\n",
              "    .colab-df-convert:hover {\n",
              "      background-color: #E2EBFA;\n",
              "      box-shadow: 0px 1px 2px rgba(60, 64, 67, 0.3), 0px 1px 3px 1px rgba(60, 64, 67, 0.15);\n",
              "      fill: #174EA6;\n",
              "    }\n",
              "\n",
              "    [theme=dark] .colab-df-convert {\n",
              "      background-color: #3B4455;\n",
              "      fill: #D2E3FC;\n",
              "    }\n",
              "\n",
              "    [theme=dark] .colab-df-convert:hover {\n",
              "      background-color: #434B5C;\n",
              "      box-shadow: 0px 1px 3px 1px rgba(0, 0, 0, 0.15);\n",
              "      filter: drop-shadow(0px 1px 2px rgba(0, 0, 0, 0.3));\n",
              "      fill: #FFFFFF;\n",
              "    }\n",
              "  </style>\n",
              "\n",
              "      <script>\n",
              "        const buttonEl =\n",
              "          document.querySelector('#df-ada3e8dc-2e9b-4eaa-8abb-e96e1bfe731c button.colab-df-convert');\n",
              "        buttonEl.style.display =\n",
              "          google.colab.kernel.accessAllowed ? 'block' : 'none';\n",
              "\n",
              "        async function convertToInteractive(key) {\n",
              "          const element = document.querySelector('#df-ada3e8dc-2e9b-4eaa-8abb-e96e1bfe731c');\n",
              "          const dataTable =\n",
              "            await google.colab.kernel.invokeFunction('convertToInteractive',\n",
              "                                                     [key], {});\n",
              "          if (!dataTable) return;\n",
              "\n",
              "          const docLinkHtml = 'Like what you see? Visit the ' +\n",
              "            '<a target=\"_blank\" href=https://colab.research.google.com/notebooks/data_table.ipynb>data table notebook</a>'\n",
              "            + ' to learn more about interactive tables.';\n",
              "          element.innerHTML = '';\n",
              "          dataTable['output_type'] = 'display_data';\n",
              "          await google.colab.output.renderOutput(dataTable, element);\n",
              "          const docLink = document.createElement('div');\n",
              "          docLink.innerHTML = docLinkHtml;\n",
              "          element.appendChild(docLink);\n",
              "        }\n",
              "      </script>\n",
              "    </div>\n",
              "  </div>\n",
              "  "
            ]
          },
          "metadata": {},
          "execution_count": 9
        }
      ]
    },
    {
      "cell_type": "code",
      "source": [
        "df.source.value_counts()"
      ],
      "metadata": {
        "colab": {
          "base_uri": "https://localhost:8080/"
        },
        "id": "_hc-0JSA2iKB",
        "outputId": "1bc468be-e22f-4376-bb1a-3ecb5901fdf2"
      },
      "execution_count": 10,
      "outputs": [
        {
          "output_type": "execute_result",
          "data": {
            "text/plain": [
              "ACCIAIUOL    16\n",
              "ALBIZZI      16\n",
              "BARBADORI    16\n",
              "BISCHERI     16\n",
              "CASTELLAN    16\n",
              "GINORI       16\n",
              "GUADAGNI     16\n",
              "LAMBERTES    16\n",
              "MEDICI       16\n",
              "PAZZI        16\n",
              "PERUZZI      16\n",
              "PUCCI        16\n",
              "RIDOLFI      16\n",
              "SALVIATI     16\n",
              "STROZZI      16\n",
              "TORNABUON    16\n",
              "Name: source, dtype: int64"
            ]
          },
          "metadata": {},
          "execution_count": 10
        }
      ]
    },
    {
      "cell_type": "code",
      "source": [
        "vec = np.array(df['value'], dtype = float)"
      ],
      "metadata": {
        "id": "1pejHjcK4TTj"
      },
      "execution_count": 11,
      "outputs": []
    },
    {
      "cell_type": "code",
      "source": [
        "L = vec.reshape(16,16)\n",
        "print(L)"
      ],
      "metadata": {
        "colab": {
          "base_uri": "https://localhost:8080/"
        },
        "id": "CFrRlZX9RMZw",
        "outputId": "cac3dc5a-4495-4133-d913-ab7b304f18cf"
      },
      "execution_count": 12,
      "outputs": [
        {
          "output_type": "stream",
          "name": "stdout",
          "text": [
            "[[0. 0. 0. 0. 0. 0. 0. 0. 1. 0. 0. 0. 0. 0. 0. 0.]\n",
            " [0. 0. 0. 0. 0. 1. 1. 0. 1. 0. 0. 0. 0. 0. 0. 0.]\n",
            " [0. 0. 0. 0. 1. 0. 0. 0. 1. 0. 0. 0. 0. 0. 0. 0.]\n",
            " [0. 0. 0. 0. 0. 0. 1. 0. 0. 0. 1. 0. 0. 0. 1. 0.]\n",
            " [0. 0. 1. 0. 0. 0. 0. 0. 0. 0. 1. 0. 0. 0. 1. 0.]\n",
            " [0. 1. 0. 0. 0. 0. 0. 0. 0. 0. 0. 0. 0. 0. 0. 0.]\n",
            " [0. 1. 0. 1. 0. 0. 0. 1. 0. 0. 0. 0. 0. 0. 0. 1.]\n",
            " [0. 0. 0. 0. 0. 0. 1. 0. 0. 0. 0. 0. 0. 0. 0. 0.]\n",
            " [1. 1. 1. 0. 0. 0. 0. 0. 0. 0. 0. 0. 1. 1. 0. 1.]\n",
            " [0. 0. 0. 0. 0. 0. 0. 0. 0. 0. 0. 0. 0. 1. 0. 0.]\n",
            " [0. 0. 0. 1. 1. 0. 0. 0. 0. 0. 0. 0. 0. 0. 1. 0.]\n",
            " [0. 0. 0. 0. 0. 0. 0. 0. 0. 0. 0. 0. 0. 0. 0. 0.]\n",
            " [0. 0. 0. 0. 0. 0. 0. 0. 1. 0. 0. 0. 0. 0. 1. 1.]\n",
            " [0. 0. 0. 0. 0. 0. 0. 0. 1. 1. 0. 0. 0. 0. 0. 0.]\n",
            " [0. 0. 0. 1. 1. 0. 0. 0. 0. 0. 1. 0. 1. 0. 0. 0.]\n",
            " [0. 0. 0. 0. 0. 0. 1. 0. 1. 0. 0. 0. 1. 0. 0. 0.]]\n"
          ]
        }
      ]
    },
    {
      "cell_type": "code",
      "source": [
        "m = L.sum(axis = 1)\n",
        "tmp = np.ones(16)\n",
        "m_inv = np.diag(np.divide(tmp, m, out = np.zeros_like(tmp),  where = m != 0 ))\n",
        "A = (L @ m_inv)\n",
        "A = A.transpose()\n",
        "p0 = np.ones(16)/16\n",
        "eps = 10**-7\n",
        "delta = 0.15\n",
        "err = True\n",
        "k = 0\n",
        "\n",
        "while err == True:\n",
        "  p1 = (1-delta)*(p0 @ A) + delta * np.ones(16)/16\n",
        "  if ln.norm(p1-p0) < eps:\n",
        "    err = False\n",
        "  k += 1\n",
        "  p0 = p1\n",
        "  if k > 1000000 :\n",
        "    err = False\n",
        "\n",
        "print(p0)"
      ],
      "metadata": {
        "id": "BqtrdYy7Tz7k",
        "colab": {
          "base_uri": "https://localhost:8080/"
        },
        "outputId": "54f88eb5-c215-4fd6-a3ca-1ab93b83ea65"
      },
      "execution_count": 16,
      "outputs": [
        {
          "output_type": "stream",
          "name": "stdout",
          "text": [
            "[0.02874134 0.0741771  0.04715717 0.06455793 0.06499704 0.03039185\n",
            " 0.09224798 0.02897769 0.13670365 0.03380051 0.0636331  0.009375\n",
            " 0.06522587 0.05747176 0.08259229 0.0668247 ]\n"
          ]
        }
      ]
    },
    {
      "cell_type": "code",
      "source": [
        "source_name = df.source.unique()\n",
        "target_name = df.target.unique()"
      ],
      "metadata": {
        "id": "yagOWUTCHIa1"
      },
      "execution_count": 14,
      "outputs": []
    },
    {
      "cell_type": "code",
      "source": [
        "print (source_name)"
      ],
      "metadata": {
        "colab": {
          "base_uri": "https://localhost:8080/"
        },
        "id": "-gINoLK8cSPE",
        "outputId": "5ad144d1-f481-43e0-ea5a-31f5be2e28f2"
      },
      "execution_count": 15,
      "outputs": [
        {
          "output_type": "stream",
          "name": "stdout",
          "text": [
            "['ACCIAIUOL' 'ALBIZZI' 'BARBADORI' 'BISCHERI' 'CASTELLAN' 'GINORI'\n",
            " 'GUADAGNI' 'LAMBERTES' 'MEDICI' 'PAZZI' 'PERUZZI' 'PUCCI' 'RIDOLFI'\n",
            " 'SALVIATI' 'STROZZI' 'TORNABUON']\n"
          ]
        }
      ]
    },
    {
      "cell_type": "code",
      "source": [
        "res = pd.DataFrame(np.concatenate((source_name, p0), axis = 0).reshape(2,16)).T.rename(columns = {0:'source',1:'rank'}).sort_values(by = 'rank', ascending = False)"
      ],
      "metadata": {
        "id": "g7EctsDXcWi9"
      },
      "execution_count": 53,
      "outputs": []
    },
    {
      "cell_type": "code",
      "source": [
        "res.head(16)"
      ],
      "metadata": {
        "colab": {
          "base_uri": "https://localhost:8080/",
          "height": 545
        },
        "id": "csh0FRekdqis",
        "outputId": "36ce5507-d807-4117-a178-be061524b77d"
      },
      "execution_count": 56,
      "outputs": [
        {
          "output_type": "execute_result",
          "data": {
            "text/plain": [
              "       source      rank\n",
              "8      MEDICI  0.136704\n",
              "6    GUADAGNI  0.092248\n",
              "14    STROZZI  0.082592\n",
              "1     ALBIZZI  0.074177\n",
              "15  TORNABUON  0.066825\n",
              "12    RIDOLFI  0.065226\n",
              "4   CASTELLAN  0.064997\n",
              "3    BISCHERI  0.064558\n",
              "10    PERUZZI  0.063633\n",
              "13   SALVIATI  0.057472\n",
              "2   BARBADORI  0.047157\n",
              "9       PAZZI  0.033801\n",
              "5      GINORI  0.030392\n",
              "7   LAMBERTES  0.028978\n",
              "0   ACCIAIUOL  0.028741\n",
              "11      PUCCI  0.009375"
            ],
            "text/html": [
              "\n",
              "  <div id=\"df-5bbee23b-e6c8-48b8-b296-2231aaecd818\">\n",
              "    <div class=\"colab-df-container\">\n",
              "      <div>\n",
              "<style scoped>\n",
              "    .dataframe tbody tr th:only-of-type {\n",
              "        vertical-align: middle;\n",
              "    }\n",
              "\n",
              "    .dataframe tbody tr th {\n",
              "        vertical-align: top;\n",
              "    }\n",
              "\n",
              "    .dataframe thead th {\n",
              "        text-align: right;\n",
              "    }\n",
              "</style>\n",
              "<table border=\"1\" class=\"dataframe\">\n",
              "  <thead>\n",
              "    <tr style=\"text-align: right;\">\n",
              "      <th></th>\n",
              "      <th>source</th>\n",
              "      <th>rank</th>\n",
              "    </tr>\n",
              "  </thead>\n",
              "  <tbody>\n",
              "    <tr>\n",
              "      <th>8</th>\n",
              "      <td>MEDICI</td>\n",
              "      <td>0.136704</td>\n",
              "    </tr>\n",
              "    <tr>\n",
              "      <th>6</th>\n",
              "      <td>GUADAGNI</td>\n",
              "      <td>0.092248</td>\n",
              "    </tr>\n",
              "    <tr>\n",
              "      <th>14</th>\n",
              "      <td>STROZZI</td>\n",
              "      <td>0.082592</td>\n",
              "    </tr>\n",
              "    <tr>\n",
              "      <th>1</th>\n",
              "      <td>ALBIZZI</td>\n",
              "      <td>0.074177</td>\n",
              "    </tr>\n",
              "    <tr>\n",
              "      <th>15</th>\n",
              "      <td>TORNABUON</td>\n",
              "      <td>0.066825</td>\n",
              "    </tr>\n",
              "    <tr>\n",
              "      <th>12</th>\n",
              "      <td>RIDOLFI</td>\n",
              "      <td>0.065226</td>\n",
              "    </tr>\n",
              "    <tr>\n",
              "      <th>4</th>\n",
              "      <td>CASTELLAN</td>\n",
              "      <td>0.064997</td>\n",
              "    </tr>\n",
              "    <tr>\n",
              "      <th>3</th>\n",
              "      <td>BISCHERI</td>\n",
              "      <td>0.064558</td>\n",
              "    </tr>\n",
              "    <tr>\n",
              "      <th>10</th>\n",
              "      <td>PERUZZI</td>\n",
              "      <td>0.063633</td>\n",
              "    </tr>\n",
              "    <tr>\n",
              "      <th>13</th>\n",
              "      <td>SALVIATI</td>\n",
              "      <td>0.057472</td>\n",
              "    </tr>\n",
              "    <tr>\n",
              "      <th>2</th>\n",
              "      <td>BARBADORI</td>\n",
              "      <td>0.047157</td>\n",
              "    </tr>\n",
              "    <tr>\n",
              "      <th>9</th>\n",
              "      <td>PAZZI</td>\n",
              "      <td>0.033801</td>\n",
              "    </tr>\n",
              "    <tr>\n",
              "      <th>5</th>\n",
              "      <td>GINORI</td>\n",
              "      <td>0.030392</td>\n",
              "    </tr>\n",
              "    <tr>\n",
              "      <th>7</th>\n",
              "      <td>LAMBERTES</td>\n",
              "      <td>0.028978</td>\n",
              "    </tr>\n",
              "    <tr>\n",
              "      <th>0</th>\n",
              "      <td>ACCIAIUOL</td>\n",
              "      <td>0.028741</td>\n",
              "    </tr>\n",
              "    <tr>\n",
              "      <th>11</th>\n",
              "      <td>PUCCI</td>\n",
              "      <td>0.009375</td>\n",
              "    </tr>\n",
              "  </tbody>\n",
              "</table>\n",
              "</div>\n",
              "      <button class=\"colab-df-convert\" onclick=\"convertToInteractive('df-5bbee23b-e6c8-48b8-b296-2231aaecd818')\"\n",
              "              title=\"Convert this dataframe to an interactive table.\"\n",
              "              style=\"display:none;\">\n",
              "        \n",
              "  <svg xmlns=\"http://www.w3.org/2000/svg\" height=\"24px\"viewBox=\"0 0 24 24\"\n",
              "       width=\"24px\">\n",
              "    <path d=\"M0 0h24v24H0V0z\" fill=\"none\"/>\n",
              "    <path d=\"M18.56 5.44l.94 2.06.94-2.06 2.06-.94-2.06-.94-.94-2.06-.94 2.06-2.06.94zm-11 1L8.5 8.5l.94-2.06 2.06-.94-2.06-.94L8.5 2.5l-.94 2.06-2.06.94zm10 10l.94 2.06.94-2.06 2.06-.94-2.06-.94-.94-2.06-.94 2.06-2.06.94z\"/><path d=\"M17.41 7.96l-1.37-1.37c-.4-.4-.92-.59-1.43-.59-.52 0-1.04.2-1.43.59L10.3 9.45l-7.72 7.72c-.78.78-.78 2.05 0 2.83L4 21.41c.39.39.9.59 1.41.59.51 0 1.02-.2 1.41-.59l7.78-7.78 2.81-2.81c.8-.78.8-2.07 0-2.86zM5.41 20L4 18.59l7.72-7.72 1.47 1.35L5.41 20z\"/>\n",
              "  </svg>\n",
              "      </button>\n",
              "      \n",
              "  <style>\n",
              "    .colab-df-container {\n",
              "      display:flex;\n",
              "      flex-wrap:wrap;\n",
              "      gap: 12px;\n",
              "    }\n",
              "\n",
              "    .colab-df-convert {\n",
              "      background-color: #E8F0FE;\n",
              "      border: none;\n",
              "      border-radius: 50%;\n",
              "      cursor: pointer;\n",
              "      display: none;\n",
              "      fill: #1967D2;\n",
              "      height: 32px;\n",
              "      padding: 0 0 0 0;\n",
              "      width: 32px;\n",
              "    }\n",
              "\n",
              "    .colab-df-convert:hover {\n",
              "      background-color: #E2EBFA;\n",
              "      box-shadow: 0px 1px 2px rgba(60, 64, 67, 0.3), 0px 1px 3px 1px rgba(60, 64, 67, 0.15);\n",
              "      fill: #174EA6;\n",
              "    }\n",
              "\n",
              "    [theme=dark] .colab-df-convert {\n",
              "      background-color: #3B4455;\n",
              "      fill: #D2E3FC;\n",
              "    }\n",
              "\n",
              "    [theme=dark] .colab-df-convert:hover {\n",
              "      background-color: #434B5C;\n",
              "      box-shadow: 0px 1px 3px 1px rgba(0, 0, 0, 0.15);\n",
              "      filter: drop-shadow(0px 1px 2px rgba(0, 0, 0, 0.3));\n",
              "      fill: #FFFFFF;\n",
              "    }\n",
              "  </style>\n",
              "\n",
              "      <script>\n",
              "        const buttonEl =\n",
              "          document.querySelector('#df-5bbee23b-e6c8-48b8-b296-2231aaecd818 button.colab-df-convert');\n",
              "        buttonEl.style.display =\n",
              "          google.colab.kernel.accessAllowed ? 'block' : 'none';\n",
              "\n",
              "        async function convertToInteractive(key) {\n",
              "          const element = document.querySelector('#df-5bbee23b-e6c8-48b8-b296-2231aaecd818');\n",
              "          const dataTable =\n",
              "            await google.colab.kernel.invokeFunction('convertToInteractive',\n",
              "                                                     [key], {});\n",
              "          if (!dataTable) return;\n",
              "\n",
              "          const docLinkHtml = 'Like what you see? Visit the ' +\n",
              "            '<a target=\"_blank\" href=https://colab.research.google.com/notebooks/data_table.ipynb>data table notebook</a>'\n",
              "            + ' to learn more about interactive tables.';\n",
              "          element.innerHTML = '';\n",
              "          dataTable['output_type'] = 'display_data';\n",
              "          await google.colab.output.renderOutput(dataTable, element);\n",
              "          const docLink = document.createElement('div');\n",
              "          docLink.innerHTML = docLinkHtml;\n",
              "          element.appendChild(docLink);\n",
              "        }\n",
              "      </script>\n",
              "    </div>\n",
              "  </div>\n",
              "  "
            ]
          },
          "metadata": {},
          "execution_count": 56
        }
      ]
    },
    {
      "cell_type": "code",
      "source": [
        ""
      ],
      "metadata": {
        "id": "QPVNYwwWm8qj"
      },
      "execution_count": null,
      "outputs": []
    }
  ]
}
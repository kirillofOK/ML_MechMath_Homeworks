{
 "cells": [
  {
   "cell_type": "markdown",
   "metadata": {},
   "source": [
    "First task"
   ]
  },
  {
   "cell_type": "code",
   "execution_count": null,
   "metadata": {},
   "outputs": [],
   "source": [
    "import numpy as np\n",
    "\n",
    "A = np.random.random((10,3))\n",
    "print (A)\n",
    "for i in range(10):\n",
    "    for j in range(3):\n",
    "        if abs(A[i,j]-0.5) < minimum:\n",
    "            minimum = abs(A[i,j]-0.5)\n",
    "            flag = j\n",
    "    print (A[i,flag])\n",
    "    minimum = 1"
   ]
  },
  {
   "cell_type": "markdown",
   "metadata": {},
   "source": [
    "Second Task"
   ]
  },
  {
   "cell_type": "code",
   "execution_count": 34,
   "metadata": {},
   "outputs": [
    {
     "name": "stdout",
     "output_type": "stream",
     "text": [
      "[[0.62015789 0.65038773 0.9114889  0.71523894 0.26042383 0.8804093 ]\n",
      " [0.45128127 0.29560608 0.67332161 0.01070507 0.39376777 0.44091757]\n",
      " [0.07392986 0.90766573 0.70128939 0.8475364  0.43598642 0.97275734]\n",
      " [0.83203037 0.35513602 0.44404284 0.10301127 0.28515448 0.4595392 ]\n",
      " [0.75348487 0.63552028 0.62471314 0.15044992 0.66734009 0.63308972]\n",
      " [0.34391779 0.89893141 0.61365807 0.35553624 0.75845574 0.27215319]]\n",
      "54.620778043159255\n",
      "7.664251456812929\n",
      "8.871137666192036\n",
      "231.5645159978672\n",
      "13.303690341556345\n",
      "11.914805834903765\n"
     ]
    }
   ],
   "source": [
    "A = np.random.random((6,6))\n",
    "print (A)\n",
    "for i in range(6):\n",
    "    print(sum(A[i])/(np.min(A, axis = 0))[i])"
   ]
  },
  {
   "cell_type": "markdown",
   "metadata": {},
   "source": [
    "Third Task"
   ]
  },
  {
   "cell_type": "code",
   "execution_count": 37,
   "metadata": {},
   "outputs": [
    {
     "name": "stdout",
     "output_type": "stream",
     "text": [
      "5\n"
     ]
    }
   ],
   "source": [
    "k = 0\n",
    "x = np.array([6, 2, 0, 3, 0, 0, 5, 7, 0])\n",
    "for i in range (len (x)):\n",
    "    if (x[i] > 0 and i>0 and x[i-1] == 0):\n",
    "        if (x[i] > k):\n",
    "            k = x[i]\n",
    "print (k)"
   ]
  },
  {
   "cell_type": "markdown",
   "metadata": {},
   "source": [
    "Fourth Task"
   ]
  },
  {
   "cell_type": "code",
   "execution_count": 39,
   "metadata": {},
   "outputs": [
    {
     "name": "stdout",
     "output_type": "stream",
     "text": [
      "[2. 2. 2. 2. 1. 4. 1. 1. 2. 1.]\n"
     ]
    }
   ],
   "source": [
    "x = np.ones(10)\n",
    "i = np.array([0, 1, 2, 3, 5, 5, 5, 8])\n",
    "for j in range(len(i)):\n",
    "    x[i[j]] += 1  \n",
    "print (x)"
   ]
  },
  {
   "cell_type": "markdown",
   "metadata": {},
   "source": [
    "Fiveth Task will be continued "
   ]
  },
  {
   "cell_type": "code",
   "execution_count": null,
   "metadata": {},
   "outputs": [],
   "source": []
  }
 ],
 "metadata": {
  "kernelspec": {
   "display_name": "Python 3",
   "language": "python",
   "name": "python3"
  },
  "language_info": {
   "codemirror_mode": {
    "name": "ipython",
    "version": 3
   },
   "file_extension": ".py",
   "mimetype": "text/x-python",
   "name": "python",
   "nbconvert_exporter": "python",
   "pygments_lexer": "ipython3",
   "version": "3.7.0"
  }
 },
 "nbformat": 4,
 "nbformat_minor": 2
}

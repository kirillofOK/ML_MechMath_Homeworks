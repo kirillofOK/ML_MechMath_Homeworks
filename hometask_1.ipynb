{
 "cells": [
  {
   "cell_type": "markdown",
   "metadata": {},
   "source": [
    "First Problem (3 points) https://edabit.com/challenge/G9QRtAGXb9Cu368Pw"
   ]
  },
  {
   "cell_type": "code",
   "execution_count": 8,
   "metadata": {},
   "outputs": [],
   "source": [
    "class Test:\n",
    "    @staticmethod\n",
    "    def assert_equals(a, b, *args, **kwargs):\n",
    "        assert a == b\n",
    "        print('Passed')"
   ]
  },
  {
   "cell_type": "code",
   "execution_count": null,
   "metadata": {},
   "outputs": [],
   "source": [
    "def combinations(*argv):\n",
    "    i=1\n",
    "    for arg in argv:\n",
    "        if arg != 0:\n",
    "            i *= arg\n",
    "    return i"
   ]
  },
  {
   "cell_type": "code",
   "execution_count": 9,
   "metadata": {},
   "outputs": [
    {
     "name": "stdout",
     "output_type": "stream",
     "text": [
      "Passed\n",
      "Passed\n",
      "Passed\n",
      "Passed\n",
      "Passed\n",
      "Passed\n",
      "Passed\n",
      "Passed\n",
      "Passed\n",
      "Passed\n"
     ]
    }
   ],
   "source": [
    "Test.assert_equals(combinations(2), 2)\n",
    "Test.assert_equals(combinations(2, 3), 6)\n",
    "Test.assert_equals(combinations(3, 5), 15)\n",
    "Test.assert_equals(combinations(5, 6, 7), 210)\n",
    "Test.assert_equals(combinations(5, 5, 5, 5), 625)\n",
    "Test.assert_equals(combinations(3, 6, 9), 162)\n",
    "Test.assert_equals(combinations(2, 3, 4, 5, 6, 7, 8, 9, 10), 3628800)\n",
    "Test.assert_equals(combinations(4, 5, 6), 120)\n",
    "Test.assert_equals(combinations(5, 6, 7, 8), 1680)\n",
    "Test.assert_equals(combinations(6, 7, 0), 42)"
   ]
  },
  {
   "cell_type": "markdown",
   "metadata": {},
   "source": [
    "\n",
    "\n",
    "Second Problem (3 points) https://edabit.com/challenge/peezjw73G8BBGfHdW "
   ]
  },
  {
   "cell_type": "code",
   "execution_count": 19,
   "metadata": {},
   "outputs": [
    {
     "data": {
      "text/plain": [
       "-1"
      ]
     },
     "execution_count": 19,
     "metadata": {},
     "output_type": "execute_result"
    }
   ],
   "source": [
    "def arithmetic_operation(s):\n",
    "    x = s.split()\n",
    "    a = int(x[0])\n",
    "    b = int(x[2])\n",
    "    if x[1]=='+':\n",
    "        return a+b\n",
    "    elif x[1]=='-':\n",
    "        return a-b\n",
    "    elif x[1]=='*':\n",
    "        return a*b\n",
    "    else:\n",
    "        if b != 0:\n",
    "            return a / b\n",
    "        else:\n",
    "            return -1\n",
    "\n",
    "arithmetic_operation(\"12 // 0\")"
   ]
  },
  {
   "cell_type": "code",
   "execution_count": 20,
   "metadata": {},
   "outputs": [
    {
     "name": "stdout",
     "output_type": "stream",
     "text": [
      "Passed\n",
      "Passed\n",
      "Passed\n",
      "Passed\n",
      "Passed\n",
      "Passed\n",
      "Passed\n",
      "Passed\n"
     ]
    }
   ],
   "source": [
    "Test.assert_equals(arithmetic_operation(\"12 + 12\"), 24)\n",
    "Test.assert_equals(arithmetic_operation(\"22 - 12\"), 10)\n",
    "Test.assert_equals(arithmetic_operation(\"100 * 12\"), 1200)\n",
    "Test.assert_equals(arithmetic_operation(\"120 // 10\"), 12)\n",
    "Test.assert_equals(arithmetic_operation(\"122 // 0\"), -1)\n",
    "Test.assert_equals(arithmetic_operation(\"10 * 20\"), 200)\n",
    "Test.assert_equals(arithmetic_operation(\"10 - 10\"), 0)\n",
    "Test.assert_equals(arithmetic_operation(\"10 - 12\"), -2)"
   ]
  },
  {
   "cell_type": "markdown",
   "metadata": {},
   "source": [
    "Third Problem (3 points) https://edabit.com/challenge/Y5Ji2HDnQTX7MxeHt"
   ]
  },
  {
   "cell_type": "code",
   "execution_count": 31,
   "metadata": {},
   "outputs": [
    {
     "data": {
      "text/plain": [
       "6"
      ]
     },
     "execution_count": 31,
     "metadata": {},
     "output_type": "execute_result"
    }
   ],
   "source": [
    "def snakefill(n):\n",
    "    k = 1\n",
    "    i = 0\n",
    "    while n*n >= k:\n",
    "        k *= 2\n",
    "        i += 1\n",
    "    return i-1\n",
    "snakefill (8)"
   ]
  },
  {
   "cell_type": "code",
   "execution_count": 32,
   "metadata": {},
   "outputs": [
    {
     "name": "stdout",
     "output_type": "stream",
     "text": [
      "Passed\n",
      "Passed\n",
      "Passed\n",
      "Passed\n",
      "Passed\n",
      "Passed\n"
     ]
    }
   ],
   "source": [
    "Test.assert_equals(snakefill(8), 6)\n",
    "Test.assert_equals(snakefill(18), 8)\n",
    "Test.assert_equals(snakefill(555), 18)\n",
    "Test.assert_equals(snakefill(2), 2)\n",
    "Test.assert_equals(snakefill(1), 0)\n",
    "Test.assert_equals(snakefill(900), 19)"
   ]
  },
  {
   "cell_type": "markdown",
   "metadata": {},
   "source": [
    "Fourth Problem (3 points) https://edabit.com/challenge/f3jX2BwzAuR8DXsy4"
   ]
  },
  {
   "cell_type": "code",
   "execution_count": 45,
   "metadata": {},
   "outputs": [
    {
     "data": {
      "text/plain": [
       "34560"
      ]
     },
     "execution_count": 45,
     "metadata": {},
     "output_type": "execute_result"
    }
   ],
   "source": [
    "import math\n",
    "def fact_of_fact(n):\n",
    "    k = 1\n",
    "    for i in range(n):\n",
    "        k *= math.factorial(i+1)\n",
    "    return k\n",
    "    \n",
    "fact_of_fact (5)\n",
    "    "
   ]
  },
  {
   "cell_type": "code",
   "execution_count": 46,
   "metadata": {},
   "outputs": [
    {
     "name": "stdout",
     "output_type": "stream",
     "text": [
      "Passed\n",
      "Passed\n",
      "Passed\n",
      "Passed\n",
      "Passed\n",
      "Passed\n",
      "Passed\n",
      "Passed\n",
      "Passed\n",
      "Passed\n",
      "Passed\n",
      "Passed\n",
      "Passed\n",
      "Passed\n",
      "Passed\n",
      "Passed\n",
      "Passed\n",
      "Passed\n",
      "Passed\n",
      "Passed\n",
      "Passed\n"
     ]
    },
    {
     "data": {
      "text/plain": [
       "(None,)"
      ]
     },
     "execution_count": 46,
     "metadata": {},
     "output_type": "execute_result"
    }
   ],
   "source": [
    "\n",
    "Test.assert_equals(fact_of_fact(1), 1),\n",
    "Test.assert_equals(fact_of_fact(5), 34560),\n",
    "Test.assert_equals(fact_of_fact(2), 2),\n",
    "Test.assert_equals(fact_of_fact(6), 24883200),\n",
    "Test.assert_equals(fact_of_fact(3), 12),\n",
    "Test.assert_equals(fact_of_fact(14), 69113789582492712943486800506462734562847413501952000000000000000),\n",
    "Test.assert_equals(fact_of_fact(11), 265790267296391946810949632000000000),\n",
    "Test.assert_equals(fact_of_fact(7), 125411328000),\n",
    "Test.assert_equals(fact_of_fact(22), 73185187344722251685917129061596359994436879170423331597220791224873045503248922811481956548134913475324429128068839519292427638045690327208977109451014144000000000000000000000000000000000000000000),\n",
    "Test.assert_equals(fact_of_fact(13), 792786697595796795607377086400871488552960000000000000),\n",
    "Test.assert_equals(fact_of_fact(8), 5056584744960000),\n",
    "Test.assert_equals(fact_of_fact(10), 6658606584104736522240000000),\n",
    "Test.assert_equals(fact_of_fact(9), 1834933472251084800000 ),\n",
    "Test.assert_equals(fact_of_fact(12), 127313963299399416749559771247411200000000000 ),\n",
    "Test.assert_equals(fact_of_fact(15), 90378331112371142262979521568630736335023247731599748366336000000000000000000 ),\n",
    "Test.assert_equals(fact_of_fact(16), 1890966832292234727042877370627225068196418587883634153182519380410368000000000000000000000 ),\n",
    "Test.assert_equals(fact_of_fact(17), 672593129192865130334217631473916658864122332882577979675277211683839238972899328000000000000000000000000 ),\n",
    "Test.assert_equals(fact_of_fact(18), 4306192564997715382115598640379294845786123319603755168023536027873932927153136831171640950784000000000000000000000000000 ),\n",
    "Test.assert_equals(fact_of_fact(19), 523827226948912906162136183269887782788685420217963126789982275317725639664591791615428617583779071590924288000000000000000000000000000000 ),\n",
    "Test.assert_equals(fact_of_fact(20), 1274420312381610764187232669591245728094053576480399681464607478621086015845192873311847341571189522511934190056991170232320000000000000000000000000000000000 ),\n",
    "Test.assert_equals(fact_of_fact(21), 65111334482340755583337032079153276047018894694274871209973336023462275586396482041798135409436085152342597056410325664391109570976337100800000000000000000000000000000000000000 ),\n"
   ]
  },
  {
   "cell_type": "markdown",
   "metadata": {},
   "source": [
    "Fifth Problem (3 points) https://edabit.com/challenge/st8mDxreMcuWxuz8c"
   ]
  },
  {
   "cell_type": "code",
   "execution_count": 49,
   "metadata": {},
   "outputs": [
    {
     "data": {
      "text/plain": [
       "31"
      ]
     },
     "execution_count": 49,
     "metadata": {},
     "output_type": "execute_result"
    }
   ],
   "source": [
    "def pentagonal(n):\n",
    "    if n==1:\n",
    "        return 1\n",
    "    elif n==2:\n",
    "        return 6\n",
    "    else:\n",
    "        return pentagonal(n-1) + (n-1) *5\n",
    "pentagonal (4)\n",
    "    "
   ]
  },
  {
   "cell_type": "code",
   "execution_count": 50,
   "metadata": {},
   "outputs": [
    {
     "name": "stdout",
     "output_type": "stream",
     "text": [
      "Passed\n",
      "Passed\n",
      "Passed\n",
      "Passed\n",
      "Passed\n",
      "Passed\n",
      "Passed\n",
      "Passed\n",
      "Passed\n",
      "Passed\n",
      "Passed\n"
     ]
    }
   ],
   "source": [
    "Test.assert_equals(pentagonal(1), 1)\n",
    "Test.assert_equals(pentagonal(3), 16)\n",
    "Test.assert_equals(pentagonal(8), 141)\n",
    "Test.assert_equals(pentagonal(10), 226)\n",
    "Test.assert_equals(pentagonal(15), 526)\n",
    "Test.assert_equals(pentagonal(33), 2641)\n",
    "Test.assert_equals(pentagonal(43), 4516)\n",
    "Test.assert_equals(pentagonal(13), 391)\n",
    "Test.assert_equals(pentagonal(50), 6126)\n",
    "Test.assert_equals(pentagonal(62), 9456)\n",
    "Test.assert_equals(pentagonal(21), 1051)"
   ]
  },
  {
   "cell_type": "code",
   "execution_count": null,
   "metadata": {},
   "outputs": [],
   "source": []
  }
 ],
 "metadata": {
  "kernelspec": {
   "display_name": "Python 3",
   "language": "python",
   "name": "python3"
  },
  "language_info": {
   "codemirror_mode": {
    "name": "ipython",
    "version": 3
   },
   "file_extension": ".py",
   "mimetype": "text/x-python",
   "name": "python",
   "nbconvert_exporter": "python",
   "pygments_lexer": "ipython3",
   "version": "3.7.0"
  }
 },
 "nbformat": 4,
 "nbformat_minor": 2
}
